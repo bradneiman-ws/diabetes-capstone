{
 "cells": [
  {
   "cell_type": "markdown",
   "id": "ad489124",
   "metadata": {},
   "source": [
    "# EDA — Diabetes Capstone\n",
    "Use this for **exploration**. Production code lives in `src/`."
   ]
  },
  {
   "cell_type": "code",
   "execution_count": null,
   "id": "1aa7130c",
   "metadata": {},
   "outputs": [],
   "source": [
    "from src.presets import load_dataset\n",
    "kind='uci_hospitals'\n"
   ]
  },
  {
   "cell_type": "code",
   "execution_count": null,
   "id": "08f87cee",
   "metadata": {},
   "outputs": [],
   "source": [
    "from src.presets import load_dataset\n",
    "csv_path = '../data/raw/diabetes.csv'\n",
    "try:\n",
    "    df = load_dataset(csv_path, kind=kind)\n",
    "    display(df.head())\n",
    "except FileNotFoundError:\n",
    "    print('Put your dataset at', csv_path)"
   ]
  },
  {
   "cell_type": "markdown",
   "id": "29c2b72c",
   "metadata": {},
   "source": [
    "## Basic stats"
   ]
  },
  {
   "cell_type": "code",
   "execution_count": null,
   "id": "06f2afa3",
   "metadata": {},
   "outputs": [],
   "source": [
    "if 'df' in locals():\n",
    "    display(df.describe(include='all'))"
   ]
  },
  {
   "cell_type": "markdown",
   "id": "b50d9cfb",
   "metadata": {},
   "source": [
    "## Target distribution"
   ]
  },
  {
   "cell_type": "code",
   "execution_count": null,
   "id": "a91bb32b",
   "metadata": {},
   "outputs": [],
   "source": [
    "if 'df' in locals():\n",
    "    target = 'readmitted' if 'readmitted' in df.columns else df.columns[-1]\n",
    "    df[target].value_counts(normalize=True).plot(kind='bar')\n",
    "    plt.title('Target distribution')\n",
    "    plt.show()"
   ]
  }
 ],
 "metadata": {},
 "nbformat": 4,
 "nbformat_minor": 5
}