{
 "cells": [
  {
   "cell_type": "markdown",
   "metadata": {},
   "source": [
    "# EDA – Correlations (Diabetes Capstone)\n",
    "\n",
    "**Goal:** understand pairwise relationships among features and their association with `Outcome`.\n",
    "\n",
    "This notebook:\n",
    "1) Loads & cleans data (Pima adjustments),\n",
    "2) Summarizes missingness and basic stats,\n",
    "3) Computes Pearson/Spearman/Kendall correlations,\n",
    "4) Produces a JMP-style scatterplot matrix and saves artifacts,\n",
    "5) Notes takeaways for modeling.\n"
   ]
  },
  {
   "cell_type": "code",
   "execution_count": null,
   "metadata": {},
   "outputs": [],
   "source": [
    "# Setup\n",
    "from pathlib import Path\n",
    "import numpy as np\n",
    "import pandas as pd\n",
    "\n",
    "# auto-reload (handy while you edit your ds_viz package)\n",
    "%load_ext autoreload\n",
    "%autoreload 2\n",
    "\n",
    "DATA_PATH = Path(\"data/diabetes.csv\")  # adjust if needed\n",
    "TARGET    = \"Outcome\"\n",
    "\n",
    "OUT_DIR_FIG = Path(\"reports/figures\"); OUT_DIR_FIG.mkdir(parents=True, exist_ok=True)\n",
    "OUT_DIR_TAB = Path(\"reports/tables\");  OUT_DIR_TAB.mkdir(parents=True, exist_ok=True)\n",
    "\n",
    "pd.set_option(\"display.max_columns\", 100)\n"
   ]
  },
  {
   "cell_type": "code",
   "execution_count": null,
   "metadata": {},
   "outputs": [],
   "source": [
    "# Import reusable plotting package (installed with `pip install -e .`)\n",
    "# Fallback: if not installed, try adding ../src to path (repo layout)\n",
    "try:\n",
    "    from ds_viz import scatter_matrix_with_corr, quick_corr_plot\n",
    "except Exception as e:\n",
    "    import sys, pathlib\n",
    "    sys.path.append(str(pathlib.Path.cwd().parent / \"src\"))\n",
    "    try:\n",
    "        from ds_viz import scatter_matrix_with_corr, quick_corr_plot\n",
    "    except Exception as e2:\n",
    "        raise ImportError(\n",
    "            \"Couldn't import ds_viz. Make sure you've run `pip install -e .` \"\n",
    "            \"from the repo root, and that src/ds_viz exists.\"\n",
    "        ) from e2\n"
   ]
  },
  {
   "cell_type": "markdown",
   "metadata": {},
   "source": [
    "## Load data"
   ]
  },
  {
   "cell_type": "code",
   "execution_count": null,
   "metadata": {},
   "outputs": [],
   "source": [
    "assert DATA_PATH.exists(), f\"Couldn't find {DATA_PATH}. Put your CSV at that path or update DATA_PATH.\"\n",
    "df = pd.read_csv(DATA_PATH)\n",
    "df.head()\n"
   ]
  },
  {
   "cell_type": "markdown",
   "metadata": {},
   "source": [
    "## Quick structure & summary"
   ]
  },
  {
   "cell_type": "code",
   "execution_count": null,
   "metadata": {},
   "outputs": [],
   "source": [
    "df.shape, df.dtypes.to_frame(\"dtype\")\n"
   ]
  },
  {
   "cell_type": "code",
   "execution_count": null,
   "metadata": {},
   "outputs": [],
   "source": [
    "df.describe(include=\"all\").T\n"
   ]
  },
  {
   "cell_type": "markdown",
   "metadata": {},
   "source": [
    "## Pima Indians “0 = missing” clean-up\n",
    "In the classic dataset, zeros in these columns are invalid and should be treated as missing."
   ]
  },
  {
   "cell_type": "code",
   "execution_count": null,
   "metadata": {},
   "outputs": [],
   "source": [
    "zero_as_na = [\"Glucose\",\"BloodPressure\",\"SkinThickness\",\"Insulin\",\"BMI\"]\n",
    "df = df.copy()\n",
    "df[zero_as_na] = df[zero_as_na].replace(0, np.nan)\n",
    "\n",
    "missing = df.isna().mean().sort_values(ascending=False).to_frame(\"missing_frac\")\n",
    "missing\n"
   ]
  },
  {
   "cell_type": "markdown",
   "metadata": {},
   "source": [
    "## (Optional) Simple median imputation for visualization\n",
    "For EDA visuals, you can work with NaNs (the plotting function handles them).  \n",
    "If you prefer a “filled” copy for some charts, use median impute below."
   ]
  },
  {
   "cell_type": "code",
   "execution_count": null,
   "metadata": {},
   "outputs": [],
   "source": [
    "df_eda = df.copy()\n",
    "for c in df_eda.select_dtypes(include=np.number):\n",
    "    df_eda[c] = df_eda[c].fillna(df_eda[c].median())\n",
    "\n",
    "df_eda.head()\n"
   ]
  },
  {
   "cell_type": "markdown",
   "metadata": {},
   "source": [
    "## Rank features by correlation with `Outcome`"
   ]
  },
  {
   "cell_type": "code",
   "execution_count": null,
   "metadata": {},
   "outputs": [],
   "source": [
    "for m in [\"pearson\",\"spearman\",\"kendall\"]:\n",
    "    s = df.corr(method=m)[TARGET].abs().sort_values(ascending=False)\n",
    "    print(f\"\\nTop correlations with {TARGET} by {m}:\")\n",
    "    display(s.to_frame(f\"abs_{m}\"))\n"
   ]
  },
  {
   "cell_type": "markdown",
   "metadata": {},
   "source": [
    "## JMP-style Scatterplot Matrix (Spearman, target-based)\n",
    "Saves a CSV correlation table and a PNG figure into `reports/`."
   ]
  },
  {
   "cell_type": "code",
   "execution_count": null,
   "metadata": {},
   "outputs": [],
   "source": [
    "corr, fig = scatter_matrix_with_corr(\n",
    "    df,                                # you can use df_eda as well; both are fine for visuals\n",
    "    method=\"spearman\",\n",
    "    select_strategy=\"target\",\n",
    "    target=TARGET,\n",
    "    max_vars=8,                        # adjust as desired\n",
    "    standardize=True,                  # comparable axes (z-scores)\n",
    "    diag_hist_sharey=True,\n",
    "    diag_hist_density=True,\n",
    "    save_table=str(OUT_DIR_TAB / \"diabetes_corr_spearman_Outcome.csv\"),\n",
    "    save_fig=str(OUT_DIR_FIG / \"diabetes_scatter_matrix_spearman_Outcome.png\")\n",
    ")\n",
    "print(\"Saved:\", OUT_DIR_TAB / \"diabetes_corr_spearman_Outcome.csv\")\n",
    "print(\"Saved:\", OUT_DIR_FIG / \"diabetes_scatter_matrix_spearman_Outcome.png\")\n"
   ]
  },
  {
   "cell_type": "markdown",
   "metadata": {},
   "source": [
    "### (Optional) One-liner wrapper instead of the cell above\n",
    "Uncomment to run the compact version. Produces method/target-coded filenames automatically."
   ]
  },
  {
   "cell_type": "code",
   "execution_count": null,
   "metadata": {},
   "outputs": [],
   "source": [
    "# quick_corr_plot(str(DATA_PATH), target=TARGET, max_vars=8, method=\"spearman\", standardize=True)\n"
   ]
  },
  {
   "cell_type": "markdown",
   "metadata": {},
   "source": [
    "## (Optional) Also generate Pearson & Kendall artifacts (no display)"
   ]
  },
  {
   "cell_type": "code",
   "execution_count": null,
   "metadata": {},
   "outputs": [],
   "source": [
    "_ = scatter_matrix_with_corr(\n",
    "    df, method=\"pearson\",\n",
    "    select_strategy=\"target\", target=TARGET, max_vars=8,\n",
    "    standardize=True, show=False,\n",
    "    save_table=str(OUT_DIR_TAB / \"diabetes_corr_pearson_Outcome.csv\"),\n",
    "    save_fig=str(OUT_DIR_FIG / \"diabetes_scatter_matrix_pearson_Outcome.png\")\n",
    ")\n",
    "\n",
    "_ = scatter_matrix_with_corr(\n",
    "    df, method=\"kendall\",\n",
    "    select_strategy=\"target\", target=TARGET, max_vars=8,\n",
    "    standardize=True, show=False,\n",
    "    save_table=str(OUT_DIR_TAB / \"diabetes_corr_kendall_Outcome.csv\"),\n",
    "    save_fig=str(OUT_DIR_FIG / \"diabetes_scatter_matrix_kendall_Outcome.png\")\n",
    ")\n",
    "\n",
    "print(\"Also saved Pearson & Kendall artifacts.\")\n"
   ]
  },
  {
   "cell_type": "markdown",
   "metadata": {},
   "source": [
    "## Peek at the saved Spearman correlation table"
   ]
  },
  {
   "cell_type": "code",
   "execution_count": null,
   "metadata": {},
   "outputs": [],
   "source": [
    "corr_path = OUT_DIR_TAB / \"diabetes_corr_spearman_Outcome.csv\"\n",
    "if corr_path.exists():\n",
    "    corr_df = pd.read_csv(corr_path, index_col=0)\n",
    "    corr_df\n",
    "else:\n",
    "    print(\"Spearman corr table not found (skip if you used the one-liner instead).\")\n"
   ]
  },
  {
   "cell_type": "markdown",
   "metadata": {},
   "source": [
    "## Notes & takeaways (fill me in)\n",
    "\n",
    "- Highest |Spearman r| with `Outcome`: (inspect the table above)\n",
    "- Direction & strength: interpret top 3–5 features.\n",
    "- Data caveats: Pima zeros treated as missing; correlations are associations, not causation.\n",
    "- Next steps: try logistic regression / tree-based models; check multicollinearity; consider interactions.\n"
   ]
  },
  {
   "cell_type": "markdown",
   "metadata": {},
   "source": [
    "## Environment info (for reproducibility)"
   ]
  },
  {
   "cell_type": "code",
   "execution_count": null,
   "metadata": {},
   "outputs": [],
   "source": [
    "import sys, matplotlib as mpl\n",
    "print(f\"Python:    {sys.version.split()[0]}\")\n",
    "print(f\"pandas:    {pd.__version__}\")\n",
    "print(f\"numpy:     {np.__version__}\")\n",
    "print(f\"matplotlib:{mpl.__version__}\")\n"
   ]
  }
 ],
 "metadata": {
  "kernelspec": {
   "display_name": "Python 3",
   "language": "python",
   "name": "python3"
  },
  "language_info": {
   "name": "python",
   "version": "3.11.8",
   "mimetype": "text/x-python",
   "codemirror_mode": {
    "name": "ipython",
    "version": 3
   },
   "pygments_lexer": "ipython3",
   "nbconvert_exporter": "python",
   "file_extension": ".py"
  }
 },
 "nbformat": 4,
 "nbformat_minor": 5
}